{
 "cells": [
  {
   "cell_type": "code",
   "execution_count": 254,
   "metadata": {},
   "outputs": [],
   "source": [
    "import numpy as np \n",
    "import pretty_midi\n",
    "import h5py\n",
    "import os\n",
    "import pandas as pd\n",
    "from random import randrange"
   ]
  },
  {
   "cell_type": "code",
   "execution_count": 299,
   "metadata": {},
   "outputs": [],
   "source": [
    "def data_preprocess(file_name,bar_number = 32):\n",
    "    '''\n",
    "    \n",
    "    '''\n",
    "    #从h5中拿到数据，h5文件要放置在当前文件夹中\n",
    "    f = h5py.File(os.getcwd()+'/'+file_name, 'r')\n",
    "    s=np.array(f['data'])\n",
    "    \n",
    "    #取我们想要的前N个小节\n",
    "    s = s[:bar_number]\n",
    "    \n",
    "    #将所有小节的数据拼接在一起\n",
    "    s = np.concatenate(tuple(s),axis=1)\n",
    "    \n",
    "    #对于除了第129行的每一行，将该行与第129行相加，这样只有头音的地方会变成2\n",
    "    for i in range(len(s))[:-1]:\n",
    "        s[i]=s[i]+s[-1]\n",
    "        #对于该行的每一个单位，如果是2，则替换成音高数字，也就是该行的行数\n",
    "        for j in range(len(s[i])):\n",
    "            if s[i][j] == 2:\n",
    "                s[i][j] = i\n",
    "    #干掉第129行\n",
    "    s = s[:-1].astype(np.int64)\n",
    "    \n",
    "    return s"
   ]
  },
  {
   "cell_type": "code",
   "execution_count": 274,
   "metadata": {},
   "outputs": [],
   "source": [
    "def bpm_to_unit_time(bpm):\n",
    "    #输入bpm，输出1/32音符的时长\n",
    "    return 60.0/(bpm*2*4)"
   ]
  },
  {
   "cell_type": "code",
   "execution_count": 275,
   "metadata": {},
   "outputs": [],
   "source": [
    "def row_start_end_compute(row,unit_time):\n",
    "    '''\n",
    "    输入一行数据，计算出这行数据中包含的note对应的\n",
    "    起始时间、终止时间、音高数字、起始index，终止index的list\n",
    "    '''\n",
    "    start_time = []\n",
    "    end_time = []\n",
    "    start_idices = []\n",
    "    end_idices = []\n",
    "    notes_numbers = []\n",
    "    for idx in range(len(row)):\n",
    "        if row[idx] >1 and row[idx]<=127:\n",
    "            start_idx = idx\n",
    "            end_idx = start_idx\n",
    "            note_number = row[idx]\n",
    "            while end_idx<len(row)-1 and row[end_idx+1] ==1:\n",
    "                end_idx=end_idx+1\n",
    "            start_idices.append(start_idx)\n",
    "            end_idices.append(end_idx)\n",
    "            start_time.append(start_idx*unit_time)\n",
    "            end_time.append((end_idx+1)*unit_time)\n",
    "            notes_numbers.append(note_number)\n",
    "    return start_time, end_time, start_idices, end_idices, notes_numbers   \n",
    "\n",
    "def data_start_end_matrix(data_one_track, unit_time):\n",
    "    '''\n",
    "    逐行使用row_start_end_compute处理数据，\n",
    "    并返回起始时间、终止时间、音高数字、起始index，终止index的矩阵\n",
    "    '''\n",
    "    start_time_matrix=[]\n",
    "    start_idices_matrix=[]\n",
    "    end_time_matrix=[]\n",
    "    end_idices_matrix=[]\n",
    "    notes_numbers_matrix = []\n",
    "    for row in data_one_track:\n",
    "        start_time, end_time, start_idices, end_idices,notes_numbers = row_start_end_compute(row,unit_time)\n",
    "        \n",
    "        start_time_matrix.append(start_time)\n",
    "        end_time_matrix.append(end_time)\n",
    "        start_idices_matrix.append(start_idices)\n",
    "        end_idices_matrix.append(end_idices)\n",
    "        notes_numbers_matrix.append(notes_numbers)\n",
    "    return start_time_matrix,end_time_matrix,start_idices_matrix,end_idices_matrix,notes_numbers_matrix"
   ]
  },
  {
   "cell_type": "code",
   "execution_count": 305,
   "metadata": {},
   "outputs": [],
   "source": [
    "def velocity_compute_row(start_idices,beat_pattern, bar_length,week_range,bar_number):\n",
    "    \"\"\"\n",
    "    compute the velocity based on whether the onset of each note is on the heavy or week place;\n",
    "    return a velocity_list represent the velocity value with respect to every start idex, namely every onset.\n",
    "    \n",
    "    beat_pattern:每个小节的beat分配方式，比如[2,3,3]\n",
    "    bar_length：每个小节的长度，以数据最小颗粒度为单位，比如数据是以1/32为最小颗粒度，长度为1个整音符，bar_length就是32\n",
    "    \n",
    "    \"\"\"\n",
    "    velocity_list = []\n",
    "\n",
    "    if len(start_idices) == 0:\n",
    "        return velocity_list\n",
    "    assert bar_length%sum(beat_pattern) == 0, \"beat pattern must match bar_length\" \n",
    "    #print(start_idices[-1], bar_length,bar_number,bar_length*bar_number)\n",
    "    assert start_idices[-1] <bar_length*bar_number, \"start idices must all be smaller then bar_length*bar_number\"\n",
    "    heavy_list = [0]\n",
    "    \n",
    "    #\n",
    "    beat_length = int(bar_length/sum(beat_pattern))\n",
    "    beat_pattern_whole =  beat_pattern * bar_number\n",
    "    for beat in beat_pattern_whole:\n",
    "        heavy_list.append(heavy_list[-1]+beat*beat_length)\n",
    "    heavy_list = heavy_list[:-1]\n",
    "    \n",
    "    # get a 0 or 1 list which stands for whether each start index is heavy or not \n",
    "    velocity_list_zero_one = [int(idx in heavy_list) for idx in start_idices]\n",
    "    for e in velocity_list_zero_one:\n",
    "        if e == 0:\n",
    "            velocity_list.append(randrange(week_range[0],week_range[1]))\n",
    "        else:\n",
    "            velocity_list.append(100)\n",
    "    return velocity_list\n",
    "\n",
    "def velocity_compute_matrix(start_idices_matrix,bar_number, beat_pattern=[2,3,3], bar_length=32,week_range=[70,90]):\n",
    "    velocity_matrix=[]\n",
    "    for start_idices in start_idices_matrix:\n",
    "        velocity_matrix.append(velocity_compute_row(start_idices, beat_pattern,bar_length,week_range,bar_number))\n",
    "    return velocity_matrix"
   ]
  },
  {
   "cell_type": "code",
   "execution_count": 277,
   "metadata": {},
   "outputs": [],
   "source": [
    "def append_note(start_idices_matrix,velocity_matrix,start_time_matrix,end_time_matrix,notes_numbers_matrix,instru_name): \n",
    "    \n",
    "    #convert instrument name to instrument number\n",
    "    instru_program = pretty_midi.instrument_name_to_program(instru_name)\n",
    "    #create instrument instance\n",
    "    instru = pretty_midi.Instrument(program=instru_program)\n",
    "    \n",
    "    for i in range(len(start_idices_matrix)):\n",
    "        notes_numbers = notes_numbers_matrix[i]\n",
    "        velocity_list = velocity_matrix[i]\n",
    "        start_time = start_time_matrix[i]\n",
    "        end_time = end_time_matrix[i]\n",
    "        \n",
    "        for idx in range(len(start_time)):\n",
    "            note = pretty_midi.Note(velocity=velocity_list[idx], pitch=notes_numbers[idx],start=start_time[idx],end=end_time[idx])\n",
    "            instru.notes.append(note)\n",
    "    return instru"
   ]
  },
  {
   "cell_type": "code",
   "execution_count": 278,
   "metadata": {},
   "outputs": [],
   "source": [
    "def one_track_append(data_one_track,midi,instru_name,\n",
    "                     bar_number,bpm,beat_pattern=[2,2,2,2],bar_length=32,week_range=[70,90]):\n",
    "    #输入的数据是单乐器轨，串联所有小节的数据\n",
    "    \n",
    "    unit_time = bpm_to_unit_time(bpm)\n",
    "    start_time_matrix,end_time_matrix,start_idices_matrix,end_idices_matrix,notes_numbers_matrix=data_start_end_matrix(data_one_track, unit_time)\n",
    "    velocity_matrix = velocity_compute_matrix(start_idices_matrix, bar_number,beat_pattern, bar_length,week_range)\n",
    "    intru = append_note(start_idices_matrix,velocity_matrix,start_time_matrix,end_time_matrix,notes_numbers_matrix,instru_name)\n",
    "    midi.instruments.append(intru)\n",
    "    return midi"
   ]
  },
  {
   "cell_type": "code",
   "execution_count": 279,
   "metadata": {},
   "outputs": [
    {
     "data": {
      "text/plain": [
       "\"要改一下data preprocessing的过程，处理成多轨连接的\\n\\ndef main(data, instruments=['Volin'],bar_number=1,bpm=120):\\n    #输入的数据可以是1个以上轨的数据，需要干掉所有用来补齐的数据（比如-1什么的），串联所有小节\\n    \\n    midi = pretty_midi.PrettyMIDI()\\n    for i in range(len(data)):\\n        instrument = instruments[i]\\n        data_one_track = data[i]\\n        midi = one_track_append(data_one_track,midi,instrument, bar_number,bpm)\\n    midi.write('test.mid')\\n\""
      ]
     },
     "execution_count": 279,
     "metadata": {},
     "output_type": "execute_result"
    }
   ],
   "source": [
    "'''要改一下data preprocessing的过程，处理成多轨连接的\n",
    "\n",
    "def main(data, instruments=['Volin'],bar_number=1,bpm=120):\n",
    "    #输入的数据可以是1个以上轨的数据，需要干掉所有用来补齐的数据（比如-1什么的），串联所有小节\n",
    "    \n",
    "    midi = pretty_midi.PrettyMIDI()\n",
    "    for i in range(len(data)):\n",
    "        instrument = instruments[i]\n",
    "        data_one_track = data[i]\n",
    "        midi = one_track_append(data_one_track,midi,instrument, bar_number,bpm)\n",
    "    midi.write('test.mid')\n",
    "'''"
   ]
  },
  {
   "cell_type": "code",
   "execution_count": 327,
   "metadata": {},
   "outputs": [],
   "source": [
    "bar_number=36\n",
    "data = data_preprocess('generated.hdf5',bar_number)\n"
   ]
  },
  {
   "cell_type": "code",
   "execution_count": 328,
   "metadata": {},
   "outputs": [],
   "source": [
    "df = pd.DataFrame(data)\n",
    "df.to_csv('debug')"
   ]
  },
  {
   "cell_type": "code",
   "execution_count": 329,
   "metadata": {},
   "outputs": [],
   "source": [
    "midi = pretty_midi.PrettyMIDI()"
   ]
  },
  {
   "cell_type": "code",
   "execution_count": 330,
   "metadata": {},
   "outputs": [],
   "source": [
    "midi = one_track_append(data, midi, instru_name='Cello',bar_number=bar_number, bpm=120,beat_pattern=[2,3,3])"
   ]
  },
  {
   "cell_type": "code",
   "execution_count": 331,
   "metadata": {},
   "outputs": [],
   "source": [
    "midi.write('test3.mid')"
   ]
  },
  {
   "cell_type": "code",
   "execution_count": null,
   "metadata": {},
   "outputs": [],
   "source": []
  }
 ],
 "metadata": {
  "kernelspec": {
   "display_name": "Python 3",
   "language": "python",
   "name": "python3"
  },
  "language_info": {
   "codemirror_mode": {
    "name": "ipython",
    "version": 3
   },
   "file_extension": ".py",
   "mimetype": "text/x-python",
   "name": "python",
   "nbconvert_exporter": "python",
   "pygments_lexer": "ipython3",
   "version": "3.6.6"
  }
 },
 "nbformat": 4,
 "nbformat_minor": 2
}
