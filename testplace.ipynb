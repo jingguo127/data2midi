{
 "cells": [
  {
   "cell_type": "code",
   "execution_count": 133,
   "metadata": {},
   "outputs": [],
   "source": [
    "import numpy as np \n",
    "import pretty_midi\n",
    "import h5py\n",
    "import os\n",
    "import pandas as pd\n",
    "from random import randrange,random"
   ]
  },
  {
   "cell_type": "code",
   "execution_count": 83,
   "metadata": {},
   "outputs": [],
   "source": [
    "f = h5py.File(os.getcwd()+'/'+\"000000014_t9_82.hdf5\", 'r')\n",
    "s=np.array(f['data'])\n",
    "s=s[:32]\n"
   ]
  },
  {
   "cell_type": "code",
   "execution_count": 84,
   "metadata": {},
   "outputs": [
    {
     "data": {
      "text/plain": [
       "(32, 129, 32)"
      ]
     },
     "execution_count": 84,
     "metadata": {},
     "output_type": "execute_result"
    }
   ],
   "source": [
    "s.shape"
   ]
  },
  {
   "cell_type": "code",
   "execution_count": 85,
   "metadata": {},
   "outputs": [],
   "source": [
    "\n",
    "s = np.concatenate(tuple(s),axis=1)\n",
    "df = pd.DataFrame(s)\n",
    "df.to_csv('s2.csv')"
   ]
  },
  {
   "cell_type": "code",
   "execution_count": 86,
   "metadata": {},
   "outputs": [
    {
     "data": {
      "text/plain": [
       "(129, 1024)"
      ]
     },
     "execution_count": 86,
     "metadata": {},
     "output_type": "execute_result"
    }
   ],
   "source": [
    "s.shape"
   ]
  },
  {
   "cell_type": "code",
   "execution_count": 90,
   "metadata": {},
   "outputs": [],
   "source": [
    "for i in range(len(s))[:-1]:\n",
    "    s[i]=s[i]+s[-1]\n",
    "    #对于该行的每一个单位，如果是2，则替换成音高数字，也就是该行的行数\n",
    "    for j in range(len(s[i])):\n",
    "        if s[i][j] == 2:\n",
    "            s[i][j] = i"
   ]
  },
  {
   "cell_type": "code",
   "execution_count": 91,
   "metadata": {},
   "outputs": [],
   "source": [
    "df = pd.DataFrame(s)\n",
    "df.to_csv('s3.csv')"
   ]
  },
  {
   "cell_type": "code",
   "execution_count": 139,
   "metadata": {},
   "outputs": [
    {
     "data": {
      "text/plain": [
       "True"
      ]
     },
     "execution_count": 139,
     "metadata": {},
     "output_type": "execute_result"
    }
   ],
   "source": [
    "random()<=0.15"
   ]
  },
  {
   "cell_type": "code",
   "execution_count": 140,
   "metadata": {},
   "outputs": [],
   "source": [
    "a = np.arange(10).reshape(2,5)"
   ]
  },
  {
   "cell_type": "code",
   "execution_count": 141,
   "metadata": {},
   "outputs": [
    {
     "data": {
      "text/plain": [
       "array([[0, 1, 2, 3, 4],\n",
       "       [5, 6, 7, 8, 9]])"
      ]
     },
     "execution_count": 141,
     "metadata": {},
     "output_type": "execute_result"
    }
   ],
   "source": [
    "a"
   ]
  },
  {
   "cell_type": "code",
   "execution_count": 142,
   "metadata": {},
   "outputs": [
    {
     "data": {
      "text/plain": [
       "array([[0, 5],\n",
       "       [1, 6],\n",
       "       [2, 7],\n",
       "       [3, 8],\n",
       "       [4, 9]])"
      ]
     },
     "execution_count": 142,
     "metadata": {},
     "output_type": "execute_result"
    }
   ],
   "source": [
    "a.T"
   ]
  },
  {
   "cell_type": "code",
   "execution_count": 143,
   "metadata": {},
   "outputs": [
    {
     "data": {
      "text/plain": [
       "2"
      ]
     },
     "execution_count": 143,
     "metadata": {},
     "output_type": "execute_result"
    }
   ],
   "source": [
    "len(a)"
   ]
  },
  {
   "cell_type": "code",
   "execution_count": 144,
   "metadata": {},
   "outputs": [
    {
     "data": {
      "text/plain": [
       "5"
      ]
     },
     "execution_count": 144,
     "metadata": {},
     "output_type": "execute_result"
    }
   ],
   "source": [
    "len(a.T)"
   ]
  },
  {
   "cell_type": "code",
   "execution_count": 145,
   "metadata": {},
   "outputs": [],
   "source": [
    "b = np.arange(5)"
   ]
  },
  {
   "cell_type": "code",
   "execution_count": 146,
   "metadata": {},
   "outputs": [
    {
     "data": {
      "text/plain": [
       "5"
      ]
     },
     "execution_count": 146,
     "metadata": {},
     "output_type": "execute_result"
    }
   ],
   "source": [
    "len(b)"
   ]
  },
  {
   "cell_type": "code",
   "execution_count": 147,
   "metadata": {},
   "outputs": [
    {
     "data": {
      "text/plain": [
       "array([5, 6, 7, 8, 9])"
      ]
     },
     "execution_count": 147,
     "metadata": {},
     "output_type": "execute_result"
    }
   ],
   "source": [
    "a[-1]"
   ]
  },
  {
   "cell_type": "code",
   "execution_count": 148,
   "metadata": {},
   "outputs": [],
   "source": [
    "b = a [-1]"
   ]
  },
  {
   "cell_type": "code",
   "execution_count": 149,
   "metadata": {},
   "outputs": [
    {
     "data": {
      "text/plain": [
       "array([5, 6, 7, 8, 9])"
      ]
     },
     "execution_count": 149,
     "metadata": {},
     "output_type": "execute_result"
    }
   ],
   "source": [
    "b"
   ]
  },
  {
   "cell_type": "code",
   "execution_count": 154,
   "metadata": {},
   "outputs": [
    {
     "data": {
      "text/plain": [
       "array([[0, 1, 2, 3, 4],\n",
       "       [5, 6, 7, 8, 9]])"
      ]
     },
     "execution_count": 154,
     "metadata": {},
     "output_type": "execute_result"
    }
   ],
   "source": [
    "a"
   ]
  },
  {
   "cell_type": "code",
   "execution_count": 162,
   "metadata": {},
   "outputs": [],
   "source": [
    "a = np.array([0,1])\n",
    "b = np.array([1,1])"
   ]
  },
  {
   "cell_type": "code",
   "execution_count": 164,
   "metadata": {},
   "outputs": [
    {
     "data": {
      "text/plain": [
       "array([0, 2])"
      ]
     },
     "execution_count": 164,
     "metadata": {},
     "output_type": "execute_result"
    }
   ],
   "source": [
    "np.array([2 if a[i]==b[i] else 0 for i in range(len(a))])"
   ]
  },
  {
   "cell_type": "code",
   "execution_count": 165,
   "metadata": {},
   "outputs": [],
   "source": [
    "def aaa(a):\n",
    "    a[0]=5"
   ]
  },
  {
   "cell_type": "code",
   "execution_count": 166,
   "metadata": {},
   "outputs": [],
   "source": [
    "aaa(a)"
   ]
  },
  {
   "cell_type": "code",
   "execution_count": 167,
   "metadata": {},
   "outputs": [
    {
     "data": {
      "text/plain": [
       "array([5, 1])"
      ]
     },
     "execution_count": 167,
     "metadata": {},
     "output_type": "execute_result"
    }
   ],
   "source": [
    "a"
   ]
  },
  {
   "cell_type": "code",
   "execution_count": 169,
   "metadata": {},
   "outputs": [],
   "source": [
    "b = a"
   ]
  },
  {
   "cell_type": "code",
   "execution_count": 170,
   "metadata": {},
   "outputs": [],
   "source": [
    "b[1] = 7"
   ]
  },
  {
   "cell_type": "code",
   "execution_count": 171,
   "metadata": {},
   "outputs": [
    {
     "data": {
      "text/plain": [
       "array([5, 7])"
      ]
     },
     "execution_count": 171,
     "metadata": {},
     "output_type": "execute_result"
    }
   ],
   "source": [
    "a"
   ]
  },
  {
   "cell_type": "code",
   "execution_count": 172,
   "metadata": {},
   "outputs": [
    {
     "data": {
      "text/plain": [
       "array([5, 7])"
      ]
     },
     "execution_count": 172,
     "metadata": {},
     "output_type": "execute_result"
    }
   ],
   "source": [
    "a"
   ]
  },
  {
   "cell_type": "code",
   "execution_count": 173,
   "metadata": {},
   "outputs": [],
   "source": [
    "a = np.arange(10).reshape(2,5)"
   ]
  },
  {
   "cell_type": "code",
   "execution_count": 174,
   "metadata": {},
   "outputs": [],
   "source": [
    "b = np.arange(10).reshape(2,5)"
   ]
  },
  {
   "cell_type": "code",
   "execution_count": 175,
   "metadata": {},
   "outputs": [
    {
     "data": {
      "text/plain": [
       "array([[0, 1, 2, 3, 4],\n",
       "       [5, 6, 7, 8, 9]])"
      ]
     },
     "execution_count": 175,
     "metadata": {},
     "output_type": "execute_result"
    }
   ],
   "source": [
    "a"
   ]
  },
  {
   "cell_type": "code",
   "execution_count": 176,
   "metadata": {},
   "outputs": [
    {
     "data": {
      "text/plain": [
       "array([[0, 1, 2, 3, 4],\n",
       "       [5, 6, 7, 8, 9]])"
      ]
     },
     "execution_count": 176,
     "metadata": {},
     "output_type": "execute_result"
    }
   ],
   "source": [
    "b"
   ]
  },
  {
   "cell_type": "code",
   "execution_count": 177,
   "metadata": {},
   "outputs": [
    {
     "data": {
      "text/plain": [
       "array([[ 0,  2,  4,  6,  8],\n",
       "       [10, 12, 14, 16, 18]])"
      ]
     },
     "execution_count": 177,
     "metadata": {},
     "output_type": "execute_result"
    }
   ],
   "source": [
    "a+b"
   ]
  },
  {
   "cell_type": "code",
   "execution_count": 178,
   "metadata": {},
   "outputs": [
    {
     "data": {
      "text/plain": [
       "(2, 5)"
      ]
     },
     "execution_count": 178,
     "metadata": {},
     "output_type": "execute_result"
    }
   ],
   "source": [
    "a.shape"
   ]
  },
  {
   "cell_type": "code",
   "execution_count": 179,
   "metadata": {},
   "outputs": [
    {
     "data": {
      "text/plain": [
       "2"
      ]
     },
     "execution_count": 179,
     "metadata": {},
     "output_type": "execute_result"
    }
   ],
   "source": [
    "len(a.shape)"
   ]
  },
  {
   "cell_type": "code",
   "execution_count": 181,
   "metadata": {},
   "outputs": [],
   "source": [
    "a = np.arange(8)"
   ]
  },
  {
   "cell_type": "code",
   "execution_count": 184,
   "metadata": {},
   "outputs": [
    {
     "data": {
      "text/plain": [
       "[0, 1, 1, 3, 4, 5, 6, 7]"
      ]
     },
     "execution_count": 184,
     "metadata": {},
     "output_type": "execute_result"
    }
   ],
   "source": [
    "[1 if a[j] == 2 else a[j] for j in range(len(a))]"
   ]
  },
  {
   "cell_type": "code",
   "execution_count": 186,
   "metadata": {},
   "outputs": [
    {
     "name": "stdout",
     "output_type": "stream",
     "text": [
      "Acoustic Grand Piano\n",
      "Bright Acoustic Piano\n",
      "Electric Grand Piano\n",
      "Honky-tonk Piano\n",
      "Electric Piano 1\n",
      "Electric Piano 2\n",
      "Harpsichord\n",
      "Clavinet\n",
      "Celesta\n",
      "Glockenspiel\n",
      "Music Box\n",
      "Vibraphone\n",
      "Marimba\n",
      "Xylophone\n",
      "Tubular Bells\n",
      "Dulcimer\n",
      "Drawbar Organ\n",
      "Percussive Organ\n",
      "Rock Organ\n",
      "Church Organ\n",
      "Reed Organ\n",
      "Accordion\n",
      "Harmonica\n",
      "Tango Accordion\n",
      "Acoustic Guitar (nylon)\n",
      "Acoustic Guitar (steel)\n",
      "Electric Guitar (jazz)\n",
      "Electric Guitar (clean)\n",
      "Electric Guitar (muted)\n",
      "Overdriven Guitar\n",
      "Distortion Guitar\n",
      "Guitar Harmonics\n",
      "Acoustic Bass\n",
      "Electric Bass (finger)\n",
      "Electric Bass (pick)\n",
      "Fretless Bass\n",
      "Slap Bass 1\n",
      "Slap Bass 2\n",
      "Synth Bass 1\n",
      "Synth Bass 2\n",
      "Violin\n",
      "Viola\n",
      "Cello\n",
      "Contrabass\n",
      "Tremolo Strings\n",
      "Pizzicato Strings\n",
      "Orchestral Harp\n",
      "Timpani\n",
      "String Ensemble 1\n",
      "String Ensemble 2\n",
      "Synth Strings 1\n",
      "Synth Strings 2\n",
      "Choir Aahs\n",
      "Voice Oohs\n",
      "Synth Choir\n",
      "Orchestra Hit\n",
      "Trumpet\n",
      "Trombone\n",
      "Tuba\n",
      "Muted Trumpet\n",
      "French Horn\n",
      "Brass Section\n",
      "Synth Brass 1\n",
      "Synth Brass 2\n",
      "Soprano Sax\n",
      "Alto Sax\n",
      "Tenor Sax\n",
      "Baritone Sax\n",
      "Oboe\n",
      "English Horn\n",
      "Bassoon\n",
      "Clarinet\n",
      "Piccolo\n",
      "Flute\n",
      "Recorder\n",
      "Pan Flute\n",
      "Blown bottle\n",
      "Shakuhachi\n",
      "Whistle\n",
      "Ocarina\n",
      "Lead 1 (square)\n",
      "Lead 2 (sawtooth)\n",
      "Lead 3 (calliope)\n",
      "Lead 4 chiff\n",
      "Lead 5 (charang)\n",
      "Lead 6 (voice)\n",
      "Lead 7 (fifths)\n",
      "Lead 8 (bass + lead)\n",
      "Pad 1 (new age)\n",
      "Pad 2 (warm)\n",
      "Pad 3 (polysynth)\n",
      "Pad 4 (choir)\n",
      "Pad 5 (bowed)\n",
      "Pad 6 (metallic)\n",
      "Pad 7 (halo)\n",
      "Pad 8 (sweep)\n",
      "FX 1 (rain)\n",
      "FX 2 (soundtrack)\n",
      "FX 3 (crystal)\n",
      "FX 4 (atmosphere)\n",
      "FX 5 (brightness)\n",
      "FX 6 (goblins)\n",
      "FX 7 (echoes)\n",
      "FX 8 (sci-fi)\n",
      "Sitar\n",
      "Banjo\n",
      "Shamisen\n",
      "Koto\n",
      "Kalimba\n",
      "Bagpipe\n",
      "Fiddle\n",
      "Shanai\n",
      "Tinkle Bell\n",
      "Agogo\n",
      "Steel Drums\n",
      "Woodblock\n",
      "Taiko Drum\n",
      "Melodic Tom\n",
      "Synth Drum\n",
      "Reverse Cymbal\n",
      "Guitar Fret Noise\n",
      "Breath Noise\n",
      "Seashore\n",
      "Bird Tweet\n",
      "Telephone Ring\n",
      "Helicopter\n",
      "Applause\n",
      "Gunshot\n"
     ]
    }
   ],
   "source": [
    "for i in np.arange(128):\n",
    "    print(pretty_midi.program_to_instrument_name(i))"
   ]
  },
  {
   "cell_type": "code",
   "execution_count": null,
   "metadata": {},
   "outputs": [],
   "source": []
  }
 ],
 "metadata": {
  "kernelspec": {
   "display_name": "Python 3",
   "language": "python",
   "name": "python3"
  },
  "language_info": {
   "codemirror_mode": {
    "name": "ipython",
    "version": 3
   },
   "file_extension": ".py",
   "mimetype": "text/x-python",
   "name": "python",
   "nbconvert_exporter": "python",
   "pygments_lexer": "ipython3",
   "version": "3.6.6"
  }
 },
 "nbformat": 4,
 "nbformat_minor": 2
}
